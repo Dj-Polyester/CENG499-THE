{
 "cells": [
  {
   "cell_type": "code",
   "execution_count": 2,
   "metadata": {},
   "outputs": [],
   "source": [
    "import numpy as np\n",
    "from mainHMM import *\n",
    "#np.set_printoptions(formatter={'float': '{:.6f}'.format})"
   ]
  },
  {
   "cell_type": "code",
   "execution_count": 3,
   "metadata": {},
   "outputs": [],
   "source": [
    "delta0 = Pi*B[:, O1[0]]\n",
    "logdelta0 = np.log(Pi)+np.log(B[:, O1[0]])"
   ]
  },
  {
   "cell_type": "code",
   "execution_count": 4,
   "metadata": {},
   "outputs": [],
   "source": [
    "delta_old2dcolwise = np.meshgrid(delta0, delta0)[1]\n",
    "logdelta_old2dcolwise = np.meshgrid(logdelta0, logdelta0)[1]"
   ]
  },
  {
   "cell_type": "code",
   "execution_count": 5,
   "metadata": {},
   "outputs": [],
   "source": [
    "logdelta_old2dcolwise_plus_A = logdelta_old2dcolwise + np.log(A)\n",
    "delta_old2dcolwise_times_A = delta_old2dcolwise * A"
   ]
  },
  {
   "cell_type": "code",
   "execution_count": 6,
   "metadata": {},
   "outputs": [
    {
     "data": {
      "text/plain": [
       "array([0.196  , 0.10803], dtype=float16)"
      ]
     },
     "execution_count": 6,
     "metadata": {},
     "output_type": "execute_result"
    }
   ],
   "source": [
    "delta_old2dcolwise_times_A.max(axis=0)"
   ]
  },
  {
   "cell_type": "code",
   "execution_count": 7,
   "metadata": {},
   "outputs": [
    {
     "data": {
      "text/plain": [
       "array([0.1959 , 0.10785], dtype=float16)"
      ]
     },
     "execution_count": 7,
     "metadata": {},
     "output_type": "execute_result"
    }
   ],
   "source": [
    "np.e**logdelta_old2dcolwise_plus_A.max(axis=0)"
   ]
  },
  {
   "cell_type": "code",
   "execution_count": 8,
   "metadata": {},
   "outputs": [
    {
     "data": {
      "text/plain": [
       "array([-1.63 , -2.225], dtype=float16)"
      ]
     },
     "execution_count": 8,
     "metadata": {},
     "output_type": "execute_result"
    }
   ],
   "source": [
    "np.log(delta_old2dcolwise_times_A.max(axis=0))"
   ]
  },
  {
   "cell_type": "code",
   "execution_count": 9,
   "metadata": {},
   "outputs": [
    {
     "data": {
      "text/plain": [
       "array([-1.63 , -2.227], dtype=float16)"
      ]
     },
     "execution_count": 9,
     "metadata": {},
     "output_type": "execute_result"
    }
   ],
   "source": [
    "logdelta_old2dcolwise_plus_A.max(axis=0)"
   ]
  },
  {
   "cell_type": "code",
   "execution_count": 6,
   "metadata": {},
   "outputs": [],
   "source": [
    "arnd = np.random.randint(-5,5,4)"
   ]
  },
  {
   "cell_type": "code",
   "execution_count": 7,
   "metadata": {},
   "outputs": [],
   "source": [
    "amtrx = np.random.randint(-5,5,(4,4))"
   ]
  },
  {
   "cell_type": "code",
   "execution_count": 8,
   "metadata": {},
   "outputs": [
    {
     "data": {
      "text/plain": [
       "array([[-16,   3,   0,   5],\n",
       "       [  0,  -2,   0,  20],\n",
       "       [  8,  -1,   0, -10],\n",
       "       [-20,  -4,   0,   5]])"
      ]
     },
     "execution_count": 8,
     "metadata": {},
     "output_type": "execute_result"
    }
   ],
   "source": [
    "arnd * amtrx"
   ]
  },
  {
   "cell_type": "code",
   "execution_count": 5,
   "metadata": {},
   "outputs": [
    {
     "data": {
      "text/plain": [
       "True"
      ]
     },
     "execution_count": 5,
     "metadata": {},
     "output_type": "execute_result"
    }
   ],
   "source": [
    "np.all([True,True,True])"
   ]
  },
  {
   "cell_type": "code",
   "execution_count": 2,
   "metadata": {},
   "outputs": [],
   "source": [
    "Mx = np.array([[7,3],[4,6]])/10\n",
    "My = np.array([[1,4,5],[7,2,1]])/10\n",
    "p0 = np.array([6,4])/10"
   ]
  },
  {
   "cell_type": "code",
   "execution_count": 3,
   "metadata": {},
   "outputs": [],
   "source": [
    "y_seq = np.array([0,1,0,2])#SMSL"
   ]
  },
  {
   "cell_type": "code",
   "execution_count": 4,
   "metadata": {},
   "outputs": [],
   "source": [
    "def a(t=len(y_seq)-1):\n",
    "    if t==0:\n",
    "        return My[:,y_seq[0]]*p0\n",
    "    return My[:,y_seq[t]]*(a(t-1) @ Mx)\n",
    "def b(t):\n",
    "    if t == len(y_seq)-1:\n",
    "        return np.ones(len(p0))\n",
    "    return Mx @ (My[:,y_seq[t+1]] * b(t+1))\n",
    "def ab(t):\n",
    "    return a(t) * b(t)\n",
    "def g(t):\n",
    "    abt = ab(t)\n",
    "    return abt/(abt.sum())\n",
    "def ab2d(t):\n",
    "    at = a(t)\n",
    "    bt = b(t+1)\n",
    "    return Mx * ((My[:,y_seq[t+1]] * bt).reshape(len(bt),1) @ at.reshape(1,len(at))).T\n",
    "def g2d(t):\n",
    "    ab2dt = ab2d(t)\n",
    "    return ab2dt/(ab2dt.sum())"
   ]
  },
  {
   "cell_type": "code",
   "execution_count": 5,
   "metadata": {},
   "outputs": [
    {
     "data": {
      "text/plain": [
       "0.009629599999999997"
      ]
     },
     "execution_count": 5,
     "metadata": {},
     "output_type": "execute_result"
    }
   ],
   "source": [
    "gs = [g(i) for i in range(len(y_seq))]\n",
    "abts = [ab(i).sum() for i in range(len(y_seq))]\n",
    "abt2ds = [ab2d(i).sum() for i in range(len(y_seq)-1)]\n",
    "a().sum()"
   ]
  },
  {
   "cell_type": "code",
   "execution_count": 6,
   "metadata": {},
   "outputs": [
    {
     "data": {
      "text/plain": [
       "array([0.22887763, 0.77112237])"
      ]
     },
     "execution_count": 6,
     "metadata": {},
     "output_type": "execute_result"
    }
   ],
   "source": [
    "g(2)"
   ]
  },
  {
   "cell_type": "code",
   "execution_count": 7,
   "metadata": {},
   "outputs": [
    {
     "data": {
      "text/plain": [
       "array([[0.21080834, 0.01806929],\n",
       "       [0.59317106, 0.17795132]])"
      ]
     },
     "execution_count": 7,
     "metadata": {},
     "output_type": "execute_result"
    }
   ],
   "source": [
    "g2d(2)"
   ]
  },
  {
   "cell_type": "code",
   "execution_count": 8,
   "metadata": {},
   "outputs": [
    {
     "data": {
      "text/plain": [
       "array([0.22887763, 0.77112237])"
      ]
     },
     "execution_count": 8,
     "metadata": {},
     "output_type": "execute_result"
    }
   ],
   "source": [
    "g2d(2).sum(axis=1)"
   ]
  }
 ],
 "metadata": {
  "kernelspec": {
   "display_name": "Python 3",
   "language": "python",
   "name": "python3"
  },
  "language_info": {
   "codemirror_mode": {
    "name": "ipython",
    "version": 3
   },
   "file_extension": ".py",
   "mimetype": "text/x-python",
   "name": "python",
   "nbconvert_exporter": "python",
   "pygments_lexer": "ipython3",
   "version": "3.10.8 (main, Nov  1 2022, 14:18:21) [GCC 12.2.0]"
  },
  "orig_nbformat": 4,
  "vscode": {
   "interpreter": {
    "hash": "e7370f93d1d0cde622a1f8e1c04877d8463912d04d973331ad4851f04de6915a"
   }
  }
 },
 "nbformat": 4,
 "nbformat_minor": 2
}
