{
 "cells": [
  {
   "cell_type": "code",
   "execution_count": 1,
   "metadata": {},
   "outputs": [],
   "source": [
    "from mainID3 import *"
   ]
  },
  {
   "cell_type": "code",
   "execution_count": 2,
   "metadata": {},
   "outputs": [
    {
     "data": {
      "text/plain": [
       "array([['hot', 'sunny', 'high', 'false'],\n",
       "       ['hot', 'sunny', 'high', 'true'],\n",
       "       ['hot', 'overcast', 'high', 'false'],\n",
       "       ['cool', 'rain', 'normal', 'false'],\n",
       "       ['cool', 'overcast', 'normal', 'true'],\n",
       "       ['mild', 'sunny', 'high', 'false'],\n",
       "       ['cool', 'sunny', 'normal', 'false'],\n",
       "       ['mild', 'rain', 'normal', 'false'],\n",
       "       ['mild', 'sunny', 'normal', 'true'],\n",
       "       ['mild', 'overcast', 'high', 'true'],\n",
       "       ['hot', 'overcast', 'normal', 'false'],\n",
       "       ['mild', 'rain', 'high', 'true'],\n",
       "       ['cool', 'rain', 'normal', 'true'],\n",
       "       ['mild', 'rain', 'high', 'false']], dtype='<U8')"
      ]
     },
     "execution_count": 2,
     "metadata": {},
     "output_type": "execute_result"
    }
   ],
   "source": [
    "dataset"
   ]
  },
  {
   "cell_type": "code",
   "execution_count": 3,
   "metadata": {},
   "outputs": [
    {
     "data": {
      "text/plain": [
       "array([0, 0, 1, 1, 1, 0, 1, 1, 1, 1, 1, 0, 0, 1])"
      ]
     },
     "execution_count": 3,
     "metadata": {},
     "output_type": "execute_result"
    }
   ],
   "source": [
    "labels"
   ]
  },
  {
   "cell_type": "code",
   "execution_count": 6,
   "metadata": {},
   "outputs": [],
   "source": [
    "classes=np.unique(labels)"
   ]
  },
  {
   "cell_type": "code",
   "execution_count": 9,
   "metadata": {},
   "outputs": [],
   "source": [
    "valuesOfA=np.unique(dataset[:,2])"
   ]
  },
  {
   "cell_type": "code",
   "execution_count": 16,
   "metadata": {},
   "outputs": [
    {
     "data": {
      "text/plain": [
       "(14, 4)"
      ]
     },
     "execution_count": 16,
     "metadata": {},
     "output_type": "execute_result"
    }
   ],
   "source": [
    "dataset.shape"
   ]
  },
  {
   "cell_type": "code",
   "execution_count": 17,
   "metadata": {},
   "outputs": [
    {
     "data": {
      "text/plain": [
       "array([ True,  True,  True, False, False,  True, False, False, False,\n",
       "        True, False,  True, False,  True])"
      ]
     },
     "execution_count": 17,
     "metadata": {},
     "output_type": "execute_result"
    }
   ],
   "source": [
    "(dataset == \"high\").any(axis=1)"
   ]
  },
  {
   "cell_type": "code",
   "execution_count": 12,
   "metadata": {},
   "outputs": [
    {
     "data": {
      "text/plain": [
       "array([['hot', 'sunny', 'high', 'false'],\n",
       "       ['hot', 'sunny', 'high', 'true'],\n",
       "       ['hot', 'overcast', 'high', 'false'],\n",
       "       ['mild', 'sunny', 'high', 'false'],\n",
       "       ['mild', 'overcast', 'high', 'true'],\n",
       "       ['mild', 'rain', 'high', 'true'],\n",
       "       ['mild', 'rain', 'high', 'false']], dtype='<U8')"
      ]
     },
     "execution_count": 12,
     "metadata": {},
     "output_type": "execute_result"
    }
   ],
   "source": [
    "dataset[(dataset == \"high\").any(axis=1)]"
   ]
  }
 ],
 "metadata": {
  "kernelspec": {
   "display_name": "Python 3.10.8 64-bit",
   "language": "python",
   "name": "python3"
  },
  "language_info": {
   "codemirror_mode": {
    "name": "ipython",
    "version": 3
   },
   "file_extension": ".py",
   "mimetype": "text/x-python",
   "name": "python",
   "nbconvert_exporter": "python",
   "pygments_lexer": "ipython3",
   "version": "3.10.8 (main, Nov  1 2022, 14:18:21) [GCC 12.2.0]"
  },
  "orig_nbformat": 4,
  "vscode": {
   "interpreter": {
    "hash": "e7370f93d1d0cde622a1f8e1c04877d8463912d04d973331ad4851f04de6915a"
   }
  }
 },
 "nbformat": 4,
 "nbformat_minor": 2
}
